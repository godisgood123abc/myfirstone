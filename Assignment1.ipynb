{
  "nbformat": 4,
  "nbformat_minor": 0,
  "metadata": {
    "colab": {
      "provenance": []
    },
    "kernelspec": {
      "name": "python3",
      "display_name": "Python 3"
    },
    "language_info": {
      "name": "python"
    }
  },
  "cells": [
    {
      "cell_type": "markdown",
      "source": [
        "To find sum of two numbers"
      ],
      "metadata": {
        "id": "BCM8m8dMSkFi"
      }
    },
    {
      "cell_type": "code",
      "execution_count": null,
      "metadata": {
        "colab": {
          "base_uri": "https://localhost:8080/"
        },
        "id": "g5NKwP0VgGYa",
        "outputId": "cb428e3c-54dc-43fd-f959-b33e99f223cf"
      },
      "outputs": [
        {
          "output_type": "stream",
          "name": "stdout",
          "text": [
            "enter the first number2\n",
            "enter the second number6\n",
            "8\n"
          ]
        }
      ],
      "source": [
        "x =int(input('enter the first number'))\n",
        "y =int(input('enter the second number'))\n",
        "s = x+y\n",
        "print(s)"
      ]
    },
    {
      "cell_type": "markdown",
      "source": [
        "Product of two numbers"
      ],
      "metadata": {
        "id": "R1XBQAyvSyqk"
      }
    },
    {
      "cell_type": "code",
      "source": [
        "x = int(input('enter the first number'))\n",
        "y = int(input('enter the second number'))\n",
        "p = x*y\n",
        "print(p)"
      ],
      "metadata": {
        "colab": {
          "base_uri": "https://localhost:8080/"
        },
        "id": "F9n3vw_DhNM6",
        "outputId": "64b844d1-6fbf-4f72-d7d8-d06d63469f18"
      },
      "execution_count": null,
      "outputs": [
        {
          "output_type": "stream",
          "name": "stdout",
          "text": [
            "enter the first number6\n",
            "enter the second number9\n",
            "54\n"
          ]
        }
      ]
    },
    {
      "cell_type": "markdown",
      "source": [
        "Quotient"
      ],
      "metadata": {
        "id": "Q62t7d65S48r"
      }
    },
    {
      "cell_type": "code",
      "source": [
        "\n",
        "x = int(input('enter the first number'))\n",
        "y = int(input('enter the second number'))\n",
        "q =x/y\n",
        "r =x%y\n",
        "print(q)\n",
        "print(r)"
      ],
      "metadata": {
        "colab": {
          "base_uri": "https://localhost:8080/"
        },
        "id": "etiB_gvFhz2e",
        "outputId": "bd4ea66a-a829-4278-b739-175fde3c9ce2"
      },
      "execution_count": null,
      "outputs": [
        {
          "output_type": "stream",
          "name": "stdout",
          "text": [
            "enter the first number2\n",
            "enter the second number9\n",
            "0.2222222222222222\n",
            "2\n"
          ]
        }
      ]
    },
    {
      "cell_type": "markdown",
      "source": [
        "Length of a string"
      ],
      "metadata": {
        "id": "0U-GuEoOTBfi"
      }
    },
    {
      "cell_type": "code",
      "source": [
        "x = \"seethal\"\n",
        "len(x)\n"
      ],
      "metadata": {
        "colab": {
          "base_uri": "https://localhost:8080/"
        },
        "id": "7tvFRBHEiaFa",
        "outputId": "0c1b9130-2f97-4d64-aab4-49269d700817"
      },
      "execution_count": null,
      "outputs": [
        {
          "output_type": "execute_result",
          "data": {
            "text/plain": [
              "7"
            ]
          },
          "metadata": {},
          "execution_count": 7
        }
      ]
    },
    {
      "cell_type": "markdown",
      "source": [],
      "metadata": {
        "id": "w6mIR1gzTGjQ"
      }
    },
    {
      "cell_type": "markdown",
      "source": [
        "To lower Case"
      ],
      "metadata": {
        "id": "XnsQDK_CT2UI"
      }
    },
    {
      "cell_type": "code",
      "source": [
        "x = \"sEetHal\"\n",
        "print(x.lower())"
      ],
      "metadata": {
        "colab": {
          "base_uri": "https://localhost:8080/"
        },
        "id": "MLMatnCKink4",
        "outputId": "52fadb5c-e043-4ea7-aae2-bcc4e9b86241"
      },
      "execution_count": null,
      "outputs": [
        {
          "output_type": "stream",
          "name": "stdout",
          "text": [
            "seethal\n"
          ]
        }
      ]
    },
    {
      "cell_type": "markdown",
      "source": [
        "To Uppercase"
      ],
      "metadata": {
        "id": "68vjdpVDT9Fq"
      }
    },
    {
      "cell_type": "code",
      "source": [
        "x = \"thykattil\"\n",
        "print(x.upper())"
      ],
      "metadata": {
        "colab": {
          "base_uri": "https://localhost:8080/"
        },
        "id": "oN_Y5XK3jGt4",
        "outputId": "1a8a2146-c8e0-44ad-e2d4-63de61ec6080"
      },
      "execution_count": null,
      "outputs": [
        {
          "output_type": "stream",
          "name": "stdout",
          "text": [
            "THYKATTIL\n"
          ]
        }
      ]
    },
    {
      "cell_type": "markdown",
      "source": [
        "Number of occurences of a character"
      ],
      "metadata": {
        "id": "kDKsDOuXTSps"
      }
    },
    {
      "cell_type": "code",
      "source": [
        "\n",
        "x =input(\"enter the word\")\n",
        "s =input(\"enter \")\n",
        "print(x.count(s))\n",
        "\n",
        "\n",
        "\n",
        "\n"
      ],
      "metadata": {
        "colab": {
          "base_uri": "https://localhost:8080/"
        },
        "id": "SgB88Ha0j5t4",
        "outputId": "c416d478-b289-4528-b7e9-11876b4f7f1c"
      },
      "execution_count": null,
      "outputs": [
        {
          "output_type": "stream",
          "name": "stdout",
          "text": [
            "enter the wordelephant\n",
            "enter e\n",
            "2\n"
          ]
        }
      ]
    },
    {
      "cell_type": "code",
      "source": [],
      "metadata": {
        "id": "6-QAmh0jahra"
      },
      "execution_count": null,
      "outputs": []
    }
  ]
}