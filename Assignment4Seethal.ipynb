{
  "nbformat": 4,
  "nbformat_minor": 0,
  "metadata": {
    "colab": {
      "provenance": []
    },
    "kernelspec": {
      "name": "python3",
      "display_name": "Python 3"
    },
    "language_info": {
      "name": "python"
    }
  },
  "cells": [
    {
      "cell_type": "code",
      "execution_count": null,
      "metadata": {
        "id": "Ee8DWjldTadE"
      },
      "outputs": [],
      "source": [
        "import numpy as np"
      ]
    },
    {
      "cell_type": "markdown",
      "source": [
        "1.Create a numpy of integers from 1 to 10"
      ],
      "metadata": {
        "id": "lsNn3MhnTpZo"
      }
    },
    {
      "cell_type": "code",
      "source": [
        "arr= np.arange(1,11)"
      ],
      "metadata": {
        "id": "843F22KzTkQy"
      },
      "execution_count": null,
      "outputs": []
    },
    {
      "cell_type": "code",
      "source": [
        "arr"
      ],
      "metadata": {
        "colab": {
          "base_uri": "https://localhost:8080/"
        },
        "id": "CmRqrbw-Ty_m",
        "outputId": "e45cebb9-c8bb-4f16-b02e-4398a7e61b3d"
      },
      "execution_count": null,
      "outputs": [
        {
          "output_type": "execute_result",
          "data": {
            "text/plain": [
              "array([ 1,  2,  3,  4,  5,  6,  7,  8,  9, 10])"
            ]
          },
          "metadata": {},
          "execution_count": 6
        }
      ]
    },
    {
      "cell_type": "markdown",
      "source": [
        "2.2X3 numpy array with filled with Zeros"
      ],
      "metadata": {
        "id": "P3Buee0UUHQl"
      }
    },
    {
      "cell_type": "code",
      "source": [
        "arr2=np.zeros([2,3])"
      ],
      "metadata": {
        "id": "XX0YlFk5T7YK"
      },
      "execution_count": null,
      "outputs": []
    },
    {
      "cell_type": "code",
      "source": [
        "arr2"
      ],
      "metadata": {
        "colab": {
          "base_uri": "https://localhost:8080/"
        },
        "id": "4VIzaljSUU-q",
        "outputId": "972b0225-e35c-4982-b597-b4165b6600b6"
      },
      "execution_count": null,
      "outputs": [
        {
          "output_type": "execute_result",
          "data": {
            "text/plain": [
              "array([[0., 0., 0.],\n",
              "       [0., 0., 0.]])"
            ]
          },
          "metadata": {},
          "execution_count": 9
        }
      ]
    },
    {
      "cell_type": "markdown",
      "source": [
        "3.Create a NumPy array of even numbers from 2 to 20."
      ],
      "metadata": {
        "id": "-xid4b2_Umwq"
      }
    },
    {
      "cell_type": "code",
      "source": [
        "arr3=np.arange(2,22,2)"
      ],
      "metadata": {
        "id": "o0uqN0_bUitL"
      },
      "execution_count": null,
      "outputs": []
    },
    {
      "cell_type": "code",
      "source": [
        "arr3"
      ],
      "metadata": {
        "colab": {
          "base_uri": "https://localhost:8080/"
        },
        "id": "LJa7sXyZUb6b",
        "outputId": "c710a302-109e-427e-ed85-b17692afe11c"
      },
      "execution_count": null,
      "outputs": [
        {
          "output_type": "execute_result",
          "data": {
            "text/plain": [
              "array([ 2,  4,  6,  8, 10, 12, 14, 16, 18, 20])"
            ]
          },
          "metadata": {},
          "execution_count": 17
        }
      ]
    },
    {
      "cell_type": "markdown",
      "source": [
        "4.Given two NumPy arrays, arr1 = np.array([1, 2, 3]) and arr2 = np.array([4, 5, 6]), perform element-wise addition, subtraction, multiplication, and division between the two arrays"
      ],
      "metadata": {
        "id": "WgMlCNzJVn4t"
      }
    },
    {
      "cell_type": "code",
      "source": [
        "arr1=np.array([1,2,3])"
      ],
      "metadata": {
        "id": "WsKHZVrLVHUN"
      },
      "execution_count": null,
      "outputs": []
    },
    {
      "cell_type": "code",
      "source": [
        "arr1"
      ],
      "metadata": {
        "colab": {
          "base_uri": "https://localhost:8080/"
        },
        "id": "twH1xGXNWEe3",
        "outputId": "3fa46e76-9c56-42f9-8959-75a441010cce"
      },
      "execution_count": null,
      "outputs": [
        {
          "output_type": "execute_result",
          "data": {
            "text/plain": [
              "array([1, 2, 3])"
            ]
          },
          "metadata": {},
          "execution_count": 19
        }
      ]
    },
    {
      "cell_type": "code",
      "source": [
        "arr2=np.array([4,5,6])"
      ],
      "metadata": {
        "id": "JTNJ34YRWFr2"
      },
      "execution_count": null,
      "outputs": []
    },
    {
      "cell_type": "code",
      "source": [
        "arr2"
      ],
      "metadata": {
        "colab": {
          "base_uri": "https://localhost:8080/"
        },
        "id": "1X7ckiPhWOr6",
        "outputId": "21210738-e287-4315-bb8c-8f3f83aea3aa"
      },
      "execution_count": null,
      "outputs": [
        {
          "output_type": "execute_result",
          "data": {
            "text/plain": [
              "array([4, 5, 6])"
            ]
          },
          "metadata": {},
          "execution_count": 22
        }
      ]
    },
    {
      "cell_type": "code",
      "source": [
        "#Addition\n",
        "arr3=arr1+arr2"
      ],
      "metadata": {
        "id": "YlvXNIYEWVQ2"
      },
      "execution_count": null,
      "outputs": []
    },
    {
      "cell_type": "code",
      "source": [
        "arr3"
      ],
      "metadata": {
        "colab": {
          "base_uri": "https://localhost:8080/"
        },
        "id": "zJzhgE7vWhJL",
        "outputId": "120171b6-1456-4901-c0fd-663bb232aa63"
      },
      "execution_count": null,
      "outputs": [
        {
          "output_type": "execute_result",
          "data": {
            "text/plain": [
              "array([5, 7, 9])"
            ]
          },
          "metadata": {},
          "execution_count": 24
        }
      ]
    },
    {
      "cell_type": "code",
      "source": [
        "#subsraction\n",
        "arr4=arr1-arr2"
      ],
      "metadata": {
        "id": "G4p5X34pWiqn"
      },
      "execution_count": null,
      "outputs": []
    },
    {
      "cell_type": "code",
      "source": [
        "arr4"
      ],
      "metadata": {
        "colab": {
          "base_uri": "https://localhost:8080/"
        },
        "id": "rAmVMyjvWrau",
        "outputId": "2b63b4f1-a6af-4661-faf0-fd8ee1679aae"
      },
      "execution_count": null,
      "outputs": [
        {
          "output_type": "execute_result",
          "data": {
            "text/plain": [
              "array([-3, -3, -3])"
            ]
          },
          "metadata": {},
          "execution_count": 26
        }
      ]
    },
    {
      "cell_type": "code",
      "source": [
        "#Multiplication\n",
        "arr5=arr1*arr2"
      ],
      "metadata": {
        "id": "PwVNER9LWskP"
      },
      "execution_count": null,
      "outputs": []
    },
    {
      "cell_type": "code",
      "source": [
        "arr5"
      ],
      "metadata": {
        "colab": {
          "base_uri": "https://localhost:8080/"
        },
        "id": "pYZ9tteYWzCW",
        "outputId": "0fd95a53-fc12-4228-9b74-3dc28586046a"
      },
      "execution_count": null,
      "outputs": [
        {
          "output_type": "execute_result",
          "data": {
            "text/plain": [
              "array([ 4, 10, 18])"
            ]
          },
          "metadata": {},
          "execution_count": 29
        }
      ]
    },
    {
      "cell_type": "code",
      "source": [
        "#division\n",
        "arr6=arr1/arr2"
      ],
      "metadata": {
        "id": "oueCPOREW5ku"
      },
      "execution_count": null,
      "outputs": []
    },
    {
      "cell_type": "code",
      "source": [
        "arr6"
      ],
      "metadata": {
        "colab": {
          "base_uri": "https://localhost:8080/"
        },
        "id": "FWlkmMxQXAqf",
        "outputId": "433881ed-4dd8-492b-ffb1-34e50ff85578"
      },
      "execution_count": null,
      "outputs": [
        {
          "output_type": "execute_result",
          "data": {
            "text/plain": [
              "array([0.25, 0.4 , 0.5 ])"
            ]
          },
          "metadata": {},
          "execution_count": 31
        }
      ]
    },
    {
      "cell_type": "markdown",
      "source": [
        "5.Compute the mean, median, and standard deviation of a NumPy array containing 100 random numbers\n"
      ],
      "metadata": {
        "id": "6D46Rpm_Xd2_"
      }
    },
    {
      "cell_type": "code",
      "source": [
        "arr7=np.random.rand(100)"
      ],
      "metadata": {
        "id": "MZtKvo1iXCt7"
      },
      "execution_count": null,
      "outputs": []
    },
    {
      "cell_type": "code",
      "source": [
        "arr7"
      ],
      "metadata": {
        "colab": {
          "base_uri": "https://localhost:8080/"
        },
        "id": "3AW9BPTfXq7o",
        "outputId": "38819295-c5ff-4848-b2b2-60e3c6c18775"
      },
      "execution_count": null,
      "outputs": [
        {
          "output_type": "execute_result",
          "data": {
            "text/plain": [
              "array([0.85012136, 0.57860222, 0.28648839, 0.9736234 , 0.92832384,\n",
              "       0.1815361 , 0.83964707, 0.48789374, 0.21886964, 0.34075555,\n",
              "       0.03183848, 0.75863186, 0.71512814, 0.01986087, 0.27604532,\n",
              "       0.51535586, 0.58519679, 0.7125589 , 0.46357945, 0.3622077 ,\n",
              "       0.48812057, 0.59463473, 0.49833619, 0.53202803, 0.16641982,\n",
              "       0.55932826, 0.36024041, 0.33614618, 0.14042271, 0.13463651,\n",
              "       0.27117135, 0.27645539, 0.62519102, 0.17796315, 0.47091838,\n",
              "       0.41332121, 0.23683143, 0.27757387, 0.74329909, 0.59597102,\n",
              "       0.50616485, 0.70078018, 0.72494997, 0.04670442, 0.02433931,\n",
              "       0.94796017, 0.79572309, 0.72132233, 0.75300082, 0.3962217 ,\n",
              "       0.10706805, 0.25160583, 0.01661161, 0.20926424, 0.72495732,\n",
              "       0.20392927, 0.84740133, 0.66998089, 0.86970173, 0.72305492,\n",
              "       0.44447399, 0.1598369 , 0.47820524, 0.46345338, 0.44268895,\n",
              "       0.82433523, 0.99577695, 0.49298376, 0.3888026 , 0.46327895,\n",
              "       0.85913126, 0.11990269, 0.54716995, 0.66088171, 0.05985785,\n",
              "       0.59706843, 0.22582719, 0.2736661 , 0.80956855, 0.16010734,\n",
              "       0.71676533, 0.84998558, 0.87995926, 0.13917012, 0.69159934,\n",
              "       0.47485251, 0.64586896, 0.16926656, 0.39420939, 0.41382164,\n",
              "       0.55640359, 0.73757184, 0.17832854, 0.90037818, 0.42557941,\n",
              "       0.50890895, 0.56598739, 0.19403037, 0.6814941 , 0.95375981])"
            ]
          },
          "metadata": {},
          "execution_count": 35
        }
      ]
    },
    {
      "cell_type": "code",
      "source": [
        "#mean\n",
        "arr7.mean()"
      ],
      "metadata": {
        "colab": {
          "base_uri": "https://localhost:8080/"
        },
        "id": "guOSpcmVXziO",
        "outputId": "d9d5b39b-c0c0-462c-dac6-8604875fd27d"
      },
      "execution_count": null,
      "outputs": [
        {
          "output_type": "execute_result",
          "data": {
            "text/plain": [
              "0.48810973964097465"
            ]
          },
          "metadata": {},
          "execution_count": 38
        }
      ]
    },
    {
      "cell_type": "code",
      "source": [
        "#standard deviation\n",
        "arr7.std()"
      ],
      "metadata": {
        "colab": {
          "base_uri": "https://localhost:8080/"
        },
        "id": "WuhHpNqVX8CO",
        "outputId": "b3ef6ffc-370a-4083-8cfc-f3a61d72b4ce"
      },
      "execution_count": null,
      "outputs": [
        {
          "output_type": "execute_result",
          "data": {
            "text/plain": [
              "0.2645252277244683"
            ]
          },
          "metadata": {},
          "execution_count": 39
        }
      ]
    },
    {
      "cell_type": "code",
      "source": [
        "#median\n",
        "median=np.median(arr7)"
      ],
      "metadata": {
        "id": "QIdp8UrqYMx2"
      },
      "execution_count": null,
      "outputs": []
    },
    {
      "cell_type": "code",
      "source": [
        "median"
      ],
      "metadata": {
        "colab": {
          "base_uri": "https://localhost:8080/"
        },
        "id": "RloL3e06YqY4",
        "outputId": "1f104cb9-cf0e-4b4c-82d9-20f5f99f1446"
      },
      "execution_count": null,
      "outputs": [
        {
          "output_type": "execute_result",
          "data": {
            "text/plain": [
              "0.4880071503702331"
            ]
          },
          "metadata": {},
          "execution_count": 44
        }
      ]
    },
    {
      "cell_type": "markdown",
      "source": [
        "6. Reshape a 1D NumPy array of 12 random elements into a 2D array with a\n",
        "shape of (3, 4).\n"
      ],
      "metadata": {
        "id": "cDak5UllZyW2"
      }
    },
    {
      "cell_type": "code",
      "source": [
        "arr8=np.random.randint(0,20,12)"
      ],
      "metadata": {
        "id": "bJzCGeI1Y9OC"
      },
      "execution_count": null,
      "outputs": []
    },
    {
      "cell_type": "code",
      "source": [
        "arr8"
      ],
      "metadata": {
        "colab": {
          "base_uri": "https://localhost:8080/"
        },
        "id": "nXnWz5q4aZ9w",
        "outputId": "37149f38-72f3-4ad0-f19b-cd9a26a3c328"
      },
      "execution_count": null,
      "outputs": [
        {
          "output_type": "execute_result",
          "data": {
            "text/plain": [
              "array([13, 10, 15, 10, 18, 11,  5,  8,  2, 10, 14,  4])"
            ]
          },
          "metadata": {},
          "execution_count": 48
        }
      ]
    },
    {
      "cell_type": "code",
      "source": [
        "arr8.reshape(3,4)"
      ],
      "metadata": {
        "colab": {
          "base_uri": "https://localhost:8080/"
        },
        "id": "yPmZ3zDEabY-",
        "outputId": "3288943e-bc00-4f9b-9343-0af297cde3b4"
      },
      "execution_count": null,
      "outputs": [
        {
          "output_type": "execute_result",
          "data": {
            "text/plain": [
              "array([[13, 10, 15, 10],\n",
              "       [18, 11,  5,  8],\n",
              "       [ 2, 10, 14,  4]])"
            ]
          },
          "metadata": {},
          "execution_count": 51
        }
      ]
    },
    {
      "cell_type": "markdown",
      "source": [
        "7. Given a NumPy array arr = np.array([1, 2, 3, 4, 5]), square each element in\n",
        "the array using NumPy functions.\n"
      ],
      "metadata": {
        "id": "LMgJpum0bw-_"
      }
    },
    {
      "cell_type": "code",
      "source": [
        "arr=np.array([1,2,3,4,5])"
      ],
      "metadata": {
        "id": "AOYhQglPbUkW"
      },
      "execution_count": null,
      "outputs": []
    },
    {
      "cell_type": "code",
      "source": [
        "np.sqrt(arr)"
      ],
      "metadata": {
        "colab": {
          "base_uri": "https://localhost:8080/"
        },
        "id": "jq8qbMyPb-c5",
        "outputId": "5bdfcd3a-4163-487a-b2ce-03be082d702b"
      },
      "execution_count": null,
      "outputs": [
        {
          "output_type": "execute_result",
          "data": {
            "text/plain": [
              "array([1.        , 1.41421356, 1.73205081, 2.        , 2.23606798])"
            ]
          },
          "metadata": {},
          "execution_count": 58
        }
      ]
    },
    {
      "cell_type": "markdown",
      "source": [
        "8. Create a 5x5 identity matrix using NumPy"
      ],
      "metadata": {
        "id": "BikKM_BLc_PI"
      }
    },
    {
      "cell_type": "code",
      "source": [
        "arr9=np.eye(5,5)"
      ],
      "metadata": {
        "id": "xq_3k3TFcCus"
      },
      "execution_count": null,
      "outputs": []
    },
    {
      "cell_type": "code",
      "source": [
        "arr9"
      ],
      "metadata": {
        "colab": {
          "base_uri": "https://localhost:8080/"
        },
        "id": "Yjj8v3VOdHsF",
        "outputId": "4cbfc230-77c4-4e4a-bb0e-c510ce25a888"
      },
      "execution_count": null,
      "outputs": [
        {
          "output_type": "execute_result",
          "data": {
            "text/plain": [
              "array([[1., 0., 0., 0., 0.],\n",
              "       [0., 1., 0., 0., 0.],\n",
              "       [0., 0., 1., 0., 0.],\n",
              "       [0., 0., 0., 1., 0.],\n",
              "       [0., 0., 0., 0., 1.]])"
            ]
          },
          "metadata": {},
          "execution_count": 64
        }
      ]
    },
    {
      "cell_type": "markdown",
      "source": [
        "9. Calculate the dot product of two NumPy arrays, a = np.array([1, 2, 3]) and\n",
        "b = np.array([4, 5, 6])."
      ],
      "metadata": {
        "id": "BBCQlT3EdZzP"
      }
    },
    {
      "cell_type": "code",
      "source": [
        "a=np.array([1,2,3])"
      ],
      "metadata": {
        "id": "un1Jt7CMdMVg"
      },
      "execution_count": null,
      "outputs": []
    },
    {
      "cell_type": "code",
      "source": [
        "b=np.array([4,5,6])"
      ],
      "metadata": {
        "id": "sPltUJTWdmbc"
      },
      "execution_count": null,
      "outputs": []
    },
    {
      "cell_type": "code",
      "source": [
        "a.dot(b)"
      ],
      "metadata": {
        "colab": {
          "base_uri": "https://localhost:8080/"
        },
        "id": "UihX_0sbd9JK",
        "outputId": "e64d3c89-0b4a-4413-fbbe-08a39c99b71f"
      },
      "execution_count": null,
      "outputs": [
        {
          "output_type": "execute_result",
          "data": {
            "text/plain": [
              "32"
            ]
          },
          "metadata": {},
          "execution_count": 73
        }
      ]
    },
    {
      "cell_type": "markdown",
      "source": [
        "10.Find the index of the maximum value and the index of the minimum value\n",
        "in a NumPy array."
      ],
      "metadata": {
        "id": "XLnNEwooeuC5"
      }
    },
    {
      "cell_type": "code",
      "source": [
        "arr10=np.arange(0,21)"
      ],
      "metadata": {
        "id": "RypjHz5fd_lA"
      },
      "execution_count": null,
      "outputs": []
    },
    {
      "cell_type": "code",
      "source": [
        "arr10"
      ],
      "metadata": {
        "colab": {
          "base_uri": "https://localhost:8080/"
        },
        "id": "BV1-3-HQfUcy",
        "outputId": "4f237147-c38a-4901-ae24-47282b05a21b"
      },
      "execution_count": null,
      "outputs": [
        {
          "output_type": "execute_result",
          "data": {
            "text/plain": [
              "array([ 0,  1,  2,  3,  4,  5,  6,  7,  8,  9, 10, 11, 12, 13, 14, 15, 16,\n",
              "       17, 18, 19, 20])"
            ]
          },
          "metadata": {},
          "execution_count": 79
        }
      ]
    },
    {
      "cell_type": "code",
      "source": [
        "arr10.max()"
      ],
      "metadata": {
        "colab": {
          "base_uri": "https://localhost:8080/"
        },
        "id": "PjrssLO4fVlM",
        "outputId": "77af6a7d-93d5-45f8-a636-8a91f39a574f"
      },
      "execution_count": null,
      "outputs": [
        {
          "output_type": "execute_result",
          "data": {
            "text/plain": [
              "20"
            ]
          },
          "metadata": {},
          "execution_count": 80
        }
      ]
    },
    {
      "cell_type": "code",
      "source": [
        "arr10.min()"
      ],
      "metadata": {
        "colab": {
          "base_uri": "https://localhost:8080/"
        },
        "id": "TK93MuMEfbU8",
        "outputId": "6d727a94-df88-4c8d-d45d-b900f6cc249f"
      },
      "execution_count": null,
      "outputs": [
        {
          "output_type": "execute_result",
          "data": {
            "text/plain": [
              "0"
            ]
          },
          "metadata": {},
          "execution_count": 81
        }
      ]
    },
    {
      "cell_type": "markdown",
      "source": [
        "11.Concatenate two random NumPy arrays horizontally and vertically."
      ],
      "metadata": {
        "id": "VUPZ0KPKf4XO"
      }
    },
    {
      "cell_type": "code",
      "source": [
        "arr1=np.zeros((3,3))"
      ],
      "metadata": {
        "id": "wfcZcUAgfmQt"
      },
      "execution_count": null,
      "outputs": []
    },
    {
      "cell_type": "code",
      "source": [
        "arr1"
      ],
      "metadata": {
        "colab": {
          "base_uri": "https://localhost:8080/"
        },
        "id": "OjNL69X7gRjr",
        "outputId": "4ed4df17-ac1d-4459-cb45-b0ad054c2406"
      },
      "execution_count": null,
      "outputs": [
        {
          "output_type": "execute_result",
          "data": {
            "text/plain": [
              "array([[0., 0., 0.],\n",
              "       [0., 0., 0.],\n",
              "       [0., 0., 0.]])"
            ]
          },
          "metadata": {},
          "execution_count": 135
        }
      ]
    },
    {
      "cell_type": "code",
      "source": [
        "arr2=np.ones((3,3))"
      ],
      "metadata": {
        "id": "tJ3ZwU4tgYJg"
      },
      "execution_count": null,
      "outputs": []
    },
    {
      "cell_type": "code",
      "source": [
        "arr2"
      ],
      "metadata": {
        "colab": {
          "base_uri": "https://localhost:8080/"
        },
        "id": "NyH--tWJiVoV",
        "outputId": "8c595242-e33a-487d-9be2-c569097ce1fa"
      },
      "execution_count": null,
      "outputs": [
        {
          "output_type": "execute_result",
          "data": {
            "text/plain": [
              "array([[1., 1., 1.],\n",
              "       [1., 1., 1.],\n",
              "       [1., 1., 1.]])"
            ]
          },
          "metadata": {},
          "execution_count": 138
        }
      ]
    },
    {
      "cell_type": "code",
      "source": [
        "np.vstack([arr1,arr2])"
      ],
      "metadata": {
        "colab": {
          "base_uri": "https://localhost:8080/"
        },
        "id": "7nJLKZk4gynk",
        "outputId": "8eca54b8-b926-4ad1-ee81-97590bd1427f"
      },
      "execution_count": null,
      "outputs": [
        {
          "output_type": "execute_result",
          "data": {
            "text/plain": [
              "array([[0., 0., 0.],\n",
              "       [0., 0., 0.],\n",
              "       [0., 0., 0.],\n",
              "       [1., 1., 1.],\n",
              "       [1., 1., 1.],\n",
              "       [1., 1., 1.]])"
            ]
          },
          "metadata": {},
          "execution_count": 142
        }
      ]
    },
    {
      "cell_type": "code",
      "source": [
        "np.hstack([arr1,arr2])"
      ],
      "metadata": {
        "colab": {
          "base_uri": "https://localhost:8080/"
        },
        "id": "9QCZ48SNhxQ5",
        "outputId": "b4a00b42-da65-40e2-cb31-372c913d79bb"
      },
      "execution_count": null,
      "outputs": [
        {
          "output_type": "execute_result",
          "data": {
            "text/plain": [
              "array([[0., 0., 0., 1., 1., 1.],\n",
              "       [0., 0., 0., 1., 1., 1.],\n",
              "       [0., 0., 0., 1., 1., 1.]])"
            ]
          },
          "metadata": {},
          "execution_count": 143
        }
      ]
    },
    {
      "cell_type": "markdown",
      "source": [
        "12.Given a 2D NumPy array, calculate the sum of each row and each column\n",
        "separately"
      ],
      "metadata": {
        "id": "ZAlAgJORwA7X"
      }
    },
    {
      "cell_type": "code",
      "source": [
        "arr=np.arange(1,17).reshape(4,4)\n",
        "print(arr)\n",
        "print(\"the sum of each coloum\",np.sum(arr,axis=0))\n",
        "print(\"the sum of each row\",np.sum(arr,axis=1))"
      ],
      "metadata": {
        "colab": {
          "base_uri": "https://localhost:8080/"
        },
        "id": "AUeQZ_z2hyj7",
        "outputId": "c6b310af-0d9c-4c95-f217-209f11ccba09"
      },
      "execution_count": null,
      "outputs": [
        {
          "output_type": "stream",
          "name": "stdout",
          "text": [
            "[[ 1  2  3  4]\n",
            " [ 5  6  7  8]\n",
            " [ 9 10 11 12]\n",
            " [13 14 15 16]]\n",
            "the sum of each coloum [28 32 36 40]\n",
            "the sum of each row [10 26 42 58]\n"
          ]
        }
      ]
    },
    {
      "cell_type": "markdown",
      "source": [
        "13.Find the common elements between two NumPy arrays"
      ],
      "metadata": {
        "id": "AQCw3JG4zLgr"
      }
    },
    {
      "cell_type": "code",
      "source": [
        "a=np.array([[2,3],[4,5],[6,7]])\n",
        "b=np.array([[1,3],[3,5],[4,8]])\n",
        "c=np.intersect1d(a,b)\n",
        "print(\"the common elements of a and b are\",c)\n"
      ],
      "metadata": {
        "colab": {
          "base_uri": "https://localhost:8080/"
        },
        "id": "OL5utzVhixol",
        "outputId": "190cf89d-5d3a-4dd1-88f8-e8e91a5f7acb"
      },
      "execution_count": null,
      "outputs": [
        {
          "output_type": "stream",
          "name": "stdout",
          "text": [
            "the common elements of a and b are [3 4 5]\n"
          ]
        }
      ]
    },
    {
      "cell_type": "markdown",
      "source": [
        "14.Replace all negative values in a NumPy array with zeros"
      ],
      "metadata": {
        "id": "KH_fsQrp0vvQ"
      }
    },
    {
      "cell_type": "code",
      "source": [
        "a=np.array([1,2,3,-4,-5,-6])\n",
        "a[a<0]=0\n",
        "a"
      ],
      "metadata": {
        "colab": {
          "base_uri": "https://localhost:8080/"
        },
        "id": "--AtGUTOh26C",
        "outputId": "47abafe6-9b7b-456c-842b-dbdc5def3d59"
      },
      "execution_count": null,
      "outputs": [
        {
          "output_type": "execute_result",
          "data": {
            "text/plain": [
              "array([1, 2, 3, 0, 0, 0])"
            ]
          },
          "metadata": {},
          "execution_count": 167
        }
      ]
    },
    {
      "cell_type": "markdown",
      "source": [
        "15.Create a NumPy array with random integers between 1 and 100 and then\n",
        "sort it in ascending order.\n"
      ],
      "metadata": {
        "id": "91klyxJh2WnO"
      }
    },
    {
      "cell_type": "code",
      "source": [
        "arr=np.random.randint(1,101,100)"
      ],
      "metadata": {
        "id": "mnh-DDAph81b"
      },
      "execution_count": null,
      "outputs": []
    },
    {
      "cell_type": "code",
      "source": [
        "arr"
      ],
      "metadata": {
        "colab": {
          "base_uri": "https://localhost:8080/"
        },
        "id": "V6i_71Bn2xaT",
        "outputId": "fdb4c21c-d8fa-4639-ecf5-52bdd7154465"
      },
      "execution_count": null,
      "outputs": [
        {
          "output_type": "execute_result",
          "data": {
            "text/plain": [
              "array([  5,  75,  84,  32,  99,   3,  90,  15,  59,  77,  26,  54,  43,\n",
              "        15,  38,  92,  57,  82,  66,  97,  53,  51,  45,  59,  22,  47,\n",
              "        21,   8,  59,  40,  85,  58,  89,  63,  65,  55,  11,  60,  45,\n",
              "        67,  18,  53,  45,  12,   4,  16,  53,  59,   1, 100,  18,  44,\n",
              "        15,  73,  38,  55,  73,  30,  92,  75,   8,  85,  82,  11,  30,\n",
              "        57,  30,  14,  93, 100,   3,  97,  78,  22,   9,  90,   5,   8,\n",
              "         6,  89,  22,  25,  14,  83,  46,  48,  45,  26,   7,  54,   7,\n",
              "        22,  74,  35,  51,  55,  21,  65,   2,  94])"
            ]
          },
          "metadata": {},
          "execution_count": 171
        }
      ]
    },
    {
      "cell_type": "markdown",
      "source": [
        "16.Calculate the element-wise absolute difference between two NumPy\n",
        "arrays."
      ],
      "metadata": {
        "id": "1n1zzc_FApMA"
      }
    },
    {
      "cell_type": "code",
      "source": [
        "a=np.array([1,2,3,4,5])\n",
        "b=np.array([8,10,12,14,16])\n",
        "c=np.absolute(a-b)\n",
        "print(\"the element-wise diff b/w the two array is\",c)"
      ],
      "metadata": {
        "id": "wk-iVQNB28Fj",
        "colab": {
          "base_uri": "https://localhost:8080/"
        },
        "outputId": "81734cfa-df21-4e6e-b0e2-e00a8e83ced4"
      },
      "execution_count": 185,
      "outputs": [
        {
          "output_type": "stream",
          "name": "stdout",
          "text": [
            "the element-wise diff b/w the two array is [ 7  8  9 10 11]\n"
          ]
        }
      ]
    },
    {
      "cell_type": "markdown",
      "source": [
        "17.Given a 2D NumPy array, extract the first row and the last column"
      ],
      "metadata": {
        "id": "l2eee26pFEBR"
      }
    },
    {
      "cell_type": "code",
      "source": [
        "arr=np.array([[1,2,3],[4,5,6],[7,8,9]])\n",
        "firstrow=arr[0]\n",
        "lastcol=arr[:,[-1]]\n",
        "print('first row is\\n',firstrow)\n",
        "print(\"last column is\\n\",lastcol)"
      ],
      "metadata": {
        "colab": {
          "base_uri": "https://localhost:8080/"
        },
        "id": "l_6-rUANBgWQ",
        "outputId": "42744937-885a-4f61-de74-4caa167fb03a"
      },
      "execution_count": 186,
      "outputs": [
        {
          "output_type": "stream",
          "name": "stdout",
          "text": [
            "first row is\n",
            " [1 2 3]\n",
            "last column is\n",
            " [[3]\n",
            " [6]\n",
            " [9]]\n"
          ]
        }
      ]
    },
    {
      "cell_type": "markdown",
      "source": [
        "18.Slice a 1D NumPy array to get every other element."
      ],
      "metadata": {
        "id": "koKqTdSqFHDp"
      }
    },
    {
      "cell_type": "code",
      "source": [
        "a=np.array([1,2,3,4,5])\n",
        "x=a[0:len(a)+1]\n",
        "print(x)"
      ],
      "metadata": {
        "colab": {
          "base_uri": "https://localhost:8080/"
        },
        "id": "FKA_31fhCbI4",
        "outputId": "adebda21-5e8b-4c7a-a500-8a38dcdb2959"
      },
      "execution_count": 188,
      "outputs": [
        {
          "output_type": "stream",
          "name": "stdout",
          "text": [
            "[1 2 3 4 5]\n"
          ]
        }
      ]
    },
    {
      "cell_type": "markdown",
      "source": [
        "19.Given a 2D NumPy array, extract a subarray consisting of the central 2x2\n",
        "elements."
      ],
      "metadata": {
        "id": "b4MtKDFRFPgT"
      }
    },
    {
      "cell_type": "code",
      "source": [
        "arr=np.array([[1,2,3,4,5,6],[7,8,9,10,11,12],[11,13,14,15,16,17],[11,22,33,44,55,66],[23,23,34,56,32,12],[1,22,33,23,22,55]])\n",
        "x=arr[2:4,[2,3]]\n",
        "print(\"orginal array is\",arr)\n",
        "print(\"central 2x2 element\",x)"
      ],
      "metadata": {
        "colab": {
          "base_uri": "https://localhost:8080/"
        },
        "id": "sT9IgGQIDUSM",
        "outputId": "40dec90a-1924-4d56-a8b6-45cc43486ca4"
      },
      "execution_count": 189,
      "outputs": [
        {
          "output_type": "stream",
          "name": "stdout",
          "text": [
            "orginal array is [[ 1  2  3  4  5  6]\n",
            " [ 7  8  9 10 11 12]\n",
            " [11 13 14 15 16 17]\n",
            " [11 22 33 44 55 66]\n",
            " [23 23 34 56 32 12]\n",
            " [ 1 22 33 23 22 55]]\n",
            "central 2x2 element [[14 15]\n",
            " [33 44]]\n"
          ]
        }
      ]
    },
    {
      "cell_type": "markdown",
      "source": [
        "20.Reverse a 1D NumPy array using slicing"
      ],
      "metadata": {
        "id": "dLtnRMpmFWDd"
      }
    },
    {
      "cell_type": "code",
      "source": [
        "a=np.array([1,2,3,4,5])\n",
        "x=a[::-1]\n",
        "x"
      ],
      "metadata": {
        "colab": {
          "base_uri": "https://localhost:8080/"
        },
        "id": "9V5aL5FOEY23",
        "outputId": "0387b678-a7da-4c87-e8ce-de0c0c0e7b82"
      },
      "execution_count": 190,
      "outputs": [
        {
          "output_type": "execute_result",
          "data": {
            "text/plain": [
              "array([5, 4, 3, 2, 1])"
            ]
          },
          "metadata": {},
          "execution_count": 190
        }
      ]
    },
    {
      "cell_type": "code",
      "source": [],
      "metadata": {
        "id": "6X4gpO6yE6Xr"
      },
      "execution_count": null,
      "outputs": []
    }
  ]
}