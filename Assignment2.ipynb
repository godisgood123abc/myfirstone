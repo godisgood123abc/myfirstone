{
  "nbformat": 4,
  "nbformat_minor": 0,
  "metadata": {
    "colab": {
      "provenance": []
    },
    "kernelspec": {
      "name": "python3",
      "display_name": "Python 3"
    },
    "language_info": {
      "name": "python"
    }
  },
  "cells": [
    {
      "cell_type": "code",
      "execution_count": null,
      "metadata": {
        "colab": {
          "base_uri": "https://localhost:8080/"
        },
        "id": "Jjf1O2I7a97W",
        "outputId": "4cc65423-d17f-4996-88f4-044d153f4bb5"
      },
      "outputs": [
        {
          "output_type": "stream",
          "name": "stdout",
          "text": [
            "enter the l of rectangle3\n",
            "enter the b of rectangle2\n",
            "6\n"
          ]
        }
      ],
      "source": [
        "#input function\n",
        "l=int(input(\"enter the l of rectangle\"))\n",
        "b=int(input(\"enter the b of rectangle\"))\n",
        "a=(l*b)\n",
        "print(a)"
      ]
    },
    {
      "cell_type": "code",
      "source": [
        "n1=int(input(\"enter n1\"))\n",
        "n2=int(input(\"enter n2\"))\n",
        "s=n1+n2\n",
        "q=n1/n2\n",
        "p=n1*n2\n",
        "d=n1-n2\n",
        "print(s)\n",
        "print(q)\n"
      ],
      "metadata": {
        "colab": {
          "base_uri": "https://localhost:8080/"
        },
        "id": "_npkfEcXa_uz",
        "outputId": "39ec51cd-1277-4aa7-f748-db80ddad67ee"
      },
      "execution_count": null,
      "outputs": [
        {
          "output_type": "stream",
          "name": "stdout",
          "text": [
            "enter n12\n",
            "enter n26\n",
            "8\n",
            "0.3333333333333333\n"
          ]
        }
      ]
    },
    {
      "cell_type": "code",
      "source": [
        "f=float(input(\"enter a number\"))\n",
        "c=(f-32)*5/9\n",
        "print(c)"
      ],
      "metadata": {
        "colab": {
          "base_uri": "https://localhost:8080/"
        },
        "id": "_KbEqRxNbHSd",
        "outputId": "e2c2d8e9-986f-4d13-fc6b-d5d6a32e86b5"
      },
      "execution_count": null,
      "outputs": [
        {
          "output_type": "stream",
          "name": "stdout",
          "text": [
            "enter a number3\n",
            "-16.11111111111111\n"
          ]
        }
      ]
    },
    {
      "cell_type": "code",
      "source": [
        "c=float(input(\"enter the number\"))\n",
        "f=(c*9/5)+32\n",
        "print(f)"
      ],
      "metadata": {
        "colab": {
          "base_uri": "https://localhost:8080/"
        },
        "id": "B8WEPfejbNce",
        "outputId": "5ea7e761-bd1f-4ada-bfe0-8dac07a5f8d0"
      },
      "execution_count": null,
      "outputs": [
        {
          "output_type": "stream",
          "name": "stdout",
          "text": [
            "enter the number2\n",
            "35.6\n"
          ]
        }
      ]
    },
    {
      "cell_type": "code",
      "source": [
        "num=int(input('enter a number'))\n",
        "if num>0:\n",
        "  print(\"num is positive\")\n",
        "elif num<0:\n",
        "  print(\"num is negative\")\n",
        "else:\n",
        "  print(\"invalid\")"
      ],
      "metadata": {
        "colab": {
          "base_uri": "https://localhost:8080/"
        },
        "id": "JqQ15PqYbTqE",
        "outputId": "1049a561-c571-4f03-9ec6-251074ab16e4"
      },
      "execution_count": null,
      "outputs": [
        {
          "output_type": "stream",
          "name": "stdout",
          "text": [
            "enter a number23\n",
            "num is positive\n"
          ]
        }
      ]
    },
    {
      "cell_type": "code",
      "source": [
        "y=int(input(\"enter the year\"))\n",
        "if y%4==0:\n",
        "  print(\"it is a leap year\")\n",
        "elif y%4!=0:\n",
        "  print('it is not a leap year')\n"
      ],
      "metadata": {
        "colab": {
          "base_uri": "https://localhost:8080/"
        },
        "id": "XcVsCsKHb439",
        "outputId": "0e02c7d9-8444-4f39-bf64-a0c849fd386b"
      },
      "execution_count": null,
      "outputs": [
        {
          "output_type": "stream",
          "name": "stdout",
          "text": [
            "enter the year2012\n",
            "it is a leap year\n"
          ]
        }
      ]
    },
    {
      "cell_type": "code",
      "source": [
        "mark=int(input(\"enter mark\"))\n",
        "if mark>89:\n",
        "  print(\"A\")\n",
        "elif mark>79:\n",
        "  print(\"B\")\n",
        "elif mark>69:\n",
        "  print(\"C\")\n",
        "elif mark>59:\n",
        "  print(\"D\")\n",
        "elif mark<59:\n",
        "  print(\"F\")\n",
        "else:\n",
        "  print(\"invalid\")\n",
        "\n"
      ],
      "metadata": {
        "colab": {
          "base_uri": "https://localhost:8080/"
        },
        "id": "J6PG_CWTcgx1",
        "outputId": "e3e6cb3c-4945-4ac7-ac41-697a7d9dad3f"
      },
      "execution_count": null,
      "outputs": [
        {
          "output_type": "stream",
          "name": "stdout",
          "text": [
            "enter mark56\n",
            "F\n"
          ]
        }
      ]
    },
    {
      "cell_type": "code",
      "source": [
        "for num in range(10,0,-1):\n",
        "  print(num)\n"
      ],
      "metadata": {
        "colab": {
          "base_uri": "https://localhost:8080/"
        },
        "id": "uutnJE3zdhTB",
        "outputId": "84ae8a06-a56e-4ff5-f2e1-3438c2013a15"
      },
      "execution_count": null,
      "outputs": [
        {
          "output_type": "stream",
          "name": "stdout",
          "text": [
            "10\n",
            "9\n",
            "8\n",
            "7\n",
            "6\n",
            "5\n",
            "4\n",
            "3\n",
            "2\n",
            "1\n"
          ]
        }
      ]
    },
    {
      "cell_type": "code",
      "source": [
        "for i in range(2,22,2):\n",
        "  print(i)\n",
        "\n"
      ],
      "metadata": {
        "colab": {
          "base_uri": "https://localhost:8080/"
        },
        "id": "lSwLGi74dvqt",
        "outputId": "0031effb-e644-4918-e21d-1e113f1b4be7"
      },
      "execution_count": null,
      "outputs": [
        {
          "output_type": "stream",
          "name": "stdout",
          "text": [
            "2\n",
            "4\n",
            "6\n",
            "8\n",
            "10\n",
            "12\n",
            "14\n",
            "16\n",
            "18\n",
            "20\n"
          ]
        }
      ]
    },
    {
      "cell_type": "code",
      "source": [
        "n = int(input(\"enter the number:\"))\n",
        "for i in range(1,11):\n",
        "  print(n,\"*\",i,\"=\",n*i)"
      ],
      "metadata": {
        "colab": {
          "base_uri": "https://localhost:8080/"
        },
        "id": "t_ct0NnYd5Cw",
        "outputId": "c172f39b-94e6-45d2-bbde-37cd2d593d25"
      },
      "execution_count": null,
      "outputs": [
        {
          "output_type": "stream",
          "name": "stdout",
          "text": [
            "enter the number:4\n",
            "4 * 1 = 4\n",
            "4 * 2 = 8\n",
            "4 * 3 = 12\n",
            "4 * 4 = 16\n",
            "4 * 5 = 20\n",
            "4 * 6 = 24\n",
            "4 * 7 = 28\n",
            "4 * 8 = 32\n",
            "4 * 9 = 36\n",
            "4 * 10 = 40\n"
          ]
        }
      ]
    },
    {
      "cell_type": "code",
      "source": [],
      "metadata": {
        "id": "T69nh8mDebp4"
      },
      "execution_count": null,
      "outputs": []
    }
  ]
}